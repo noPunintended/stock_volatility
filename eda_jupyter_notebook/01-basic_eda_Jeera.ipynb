{
 "cells": [
  {
   "cell_type": "markdown",
   "id": "9d65c2cf-14b7-4542-9e65-01cf4067a187",
   "metadata": {
    "tags": []
   },
   "source": [
    "# Libraries"
   ]
  },
  {
   "cell_type": "code",
   "execution_count": 1,
   "id": "d7447234-a601-452b-91f3-f5f103e6655a",
   "metadata": {},
   "outputs": [],
   "source": [
    "# standard packages\n",
    "import os\n",
    "import sys\n",
    "# custom modules\n",
    "module_path = os.path.abspath('..')\n",
    "if module_path not in sys.path:\n",
    "    sys.path.append(module_path)\n",
    "from utils.metrics_calculation import (\n",
    "    cal_bid_spread, \n",
    "    cal_log_return,\n",
    "    cal_realized_volatility, \n",
    "    cal_series_log_return, \n",
    "    cal_series_wap, \n",
    "    cal_wap, \n",
    "    root_mean_squared_percentage_error\n",
    ")\n",
    "# trios!\n",
    "import pandas as pd\n",
    "import numpy as np\n",
    "import matplotlib.pyplot as plt"
   ]
  },
  {
   "cell_type": "code",
   "execution_count": 2,
   "id": "f8fec14b-8e60-4c29-8241-587ca353384d",
   "metadata": {},
   "outputs": [],
   "source": [
    "DATA_FOLDER = os.path.relpath('../data/')"
   ]
  },
  {
   "cell_type": "markdown",
   "id": "55d19879-df2a-48e7-b336-6c64dfd02fcf",
   "metadata": {},
   "source": [
    "# Import Data"
   ]
  },
  {
   "cell_type": "code",
   "execution_count": null,
   "id": "beeb241f-fcd3-45fa-8626-6493dba598d1",
   "metadata": {},
   "outputs": [],
   "source": []
  }
 ],
 "metadata": {
  "kernelspec": {
   "display_name": "Python 3",
   "language": "python",
   "name": "python3"
  },
  "language_info": {
   "codemirror_mode": {
    "name": "ipython",
    "version": 3
   },
   "file_extension": ".py",
   "mimetype": "text/x-python",
   "name": "python",
   "nbconvert_exporter": "python",
   "pygments_lexer": "ipython3",
   "version": "3.9.5"
  }
 },
 "nbformat": 4,
 "nbformat_minor": 5
}
