{
 "cells": [
  {
   "cell_type": "markdown",
   "id": "d8a5dbe3",
   "metadata": {},
   "source": [
    "### From https://www.kaggle.com/c/optiver-realized-volatility-prediction/overview"
   ]
  },
  {
   "cell_type": "markdown",
   "id": "f107be0d",
   "metadata": {},
   "source": [
    "# Import Package"
   ]
  },
  {
   "cell_type": "code",
   "execution_count": 1,
   "id": "b94279eb",
   "metadata": {},
   "outputs": [],
   "source": [
    "import sys\n",
    "import numpy as np\n",
    "import pandas as pd\n",
    "import matplotlib.pyplot as plt\n",
    "import seaborn as sns\n",
    "import statsmodels.api as sm\n",
    "import xgboost as xgb\n",
    "sys.path.append('../../stock_volatility')\n",
    "from sklearn.model_selection import train_test_split\n",
    "from utils.metrics_calculation import (\n",
    "    cal_series_log_return,\n",
    "    cal_realized_volatility,\n",
    "    evaluation\n",
    ")\n",
    "from utils.baseline import (\n",
    "    create_baseline_pred\n",
    ")"
   ]
  },
  {
   "cell_type": "markdown",
   "id": "f83b32cb",
   "metadata": {},
   "source": [
    "# Import Data"
   ]
  },
  {
   "cell_type": "code",
   "execution_count": 2,
   "id": "44187d1b",
   "metadata": {},
   "outputs": [],
   "source": [
    "book_df = pd.read_parquet('../data/book_train.parquet')\n",
    "trade_df = pd.read_parquet('../data/trade_train.parquet')\n",
    "response_df = pd.read_csv('../data/train.csv')"
   ]
  },
  {
   "cell_type": "markdown",
   "id": "6e7598f6",
   "metadata": {},
   "source": [
    "# EDA"
   ]
  },
  {
   "cell_type": "markdown",
   "id": "7cea4397",
   "metadata": {},
   "source": [
    "### Data Example"
   ]
  },
  {
   "cell_type": "code",
   "execution_count": 3,
   "id": "42347797",
   "metadata": {},
   "outputs": [
    {
     "data": {
      "text/html": [
       "<div>\n",
       "<style scoped>\n",
       "    .dataframe tbody tr th:only-of-type {\n",
       "        vertical-align: middle;\n",
       "    }\n",
       "\n",
       "    .dataframe tbody tr th {\n",
       "        vertical-align: top;\n",
       "    }\n",
       "\n",
       "    .dataframe thead th {\n",
       "        text-align: right;\n",
       "    }\n",
       "</style>\n",
       "<table border=\"1\" class=\"dataframe\">\n",
       "  <thead>\n",
       "    <tr style=\"text-align: right;\">\n",
       "      <th></th>\n",
       "      <th>time_id</th>\n",
       "      <th>seconds_in_bucket</th>\n",
       "      <th>bid_price1</th>\n",
       "      <th>ask_price1</th>\n",
       "      <th>bid_price2</th>\n",
       "      <th>ask_price2</th>\n",
       "      <th>bid_size1</th>\n",
       "      <th>ask_size1</th>\n",
       "      <th>bid_size2</th>\n",
       "      <th>ask_size2</th>\n",
       "      <th>stock_id</th>\n",
       "    </tr>\n",
       "  </thead>\n",
       "  <tbody>\n",
       "    <tr>\n",
       "      <th>0</th>\n",
       "      <td>5</td>\n",
       "      <td>0</td>\n",
       "      <td>1.001422</td>\n",
       "      <td>1.002301</td>\n",
       "      <td>1.00137</td>\n",
       "      <td>1.002353</td>\n",
       "      <td>3</td>\n",
       "      <td>226</td>\n",
       "      <td>2</td>\n",
       "      <td>100</td>\n",
       "      <td>0</td>\n",
       "    </tr>\n",
       "    <tr>\n",
       "      <th>1</th>\n",
       "      <td>5</td>\n",
       "      <td>1</td>\n",
       "      <td>1.001422</td>\n",
       "      <td>1.002301</td>\n",
       "      <td>1.00137</td>\n",
       "      <td>1.002353</td>\n",
       "      <td>3</td>\n",
       "      <td>100</td>\n",
       "      <td>2</td>\n",
       "      <td>100</td>\n",
       "      <td>0</td>\n",
       "    </tr>\n",
       "    <tr>\n",
       "      <th>2</th>\n",
       "      <td>5</td>\n",
       "      <td>5</td>\n",
       "      <td>1.001422</td>\n",
       "      <td>1.002301</td>\n",
       "      <td>1.00137</td>\n",
       "      <td>1.002405</td>\n",
       "      <td>3</td>\n",
       "      <td>100</td>\n",
       "      <td>2</td>\n",
       "      <td>100</td>\n",
       "      <td>0</td>\n",
       "    </tr>\n",
       "    <tr>\n",
       "      <th>3</th>\n",
       "      <td>5</td>\n",
       "      <td>6</td>\n",
       "      <td>1.001422</td>\n",
       "      <td>1.002301</td>\n",
       "      <td>1.00137</td>\n",
       "      <td>1.002405</td>\n",
       "      <td>3</td>\n",
       "      <td>126</td>\n",
       "      <td>2</td>\n",
       "      <td>100</td>\n",
       "      <td>0</td>\n",
       "    </tr>\n",
       "    <tr>\n",
       "      <th>4</th>\n",
       "      <td>5</td>\n",
       "      <td>7</td>\n",
       "      <td>1.001422</td>\n",
       "      <td>1.002301</td>\n",
       "      <td>1.00137</td>\n",
       "      <td>1.002405</td>\n",
       "      <td>3</td>\n",
       "      <td>126</td>\n",
       "      <td>2</td>\n",
       "      <td>100</td>\n",
       "      <td>0</td>\n",
       "    </tr>\n",
       "  </tbody>\n",
       "</table>\n",
       "</div>"
      ],
      "text/plain": [
       "   time_id  seconds_in_bucket  bid_price1  ask_price1  bid_price2  ask_price2  \\\n",
       "0        5                  0    1.001422    1.002301     1.00137    1.002353   \n",
       "1        5                  1    1.001422    1.002301     1.00137    1.002353   \n",
       "2        5                  5    1.001422    1.002301     1.00137    1.002405   \n",
       "3        5                  6    1.001422    1.002301     1.00137    1.002405   \n",
       "4        5                  7    1.001422    1.002301     1.00137    1.002405   \n",
       "\n",
       "   bid_size1  ask_size1  bid_size2  ask_size2 stock_id  \n",
       "0          3        226          2        100        0  \n",
       "1          3        100          2        100        0  \n",
       "2          3        100          2        100        0  \n",
       "3          3        126          2        100        0  \n",
       "4          3        126          2        100        0  "
      ]
     },
     "execution_count": 3,
     "metadata": {},
     "output_type": "execute_result"
    }
   ],
   "source": [
    "book_df.head()"
   ]
  },
  {
   "cell_type": "code",
   "execution_count": 4,
   "id": "dc4a967e",
   "metadata": {},
   "outputs": [
    {
     "data": {
      "text/html": [
       "<div>\n",
       "<style scoped>\n",
       "    .dataframe tbody tr th:only-of-type {\n",
       "        vertical-align: middle;\n",
       "    }\n",
       "\n",
       "    .dataframe tbody tr th {\n",
       "        vertical-align: top;\n",
       "    }\n",
       "\n",
       "    .dataframe thead th {\n",
       "        text-align: right;\n",
       "    }\n",
       "</style>\n",
       "<table border=\"1\" class=\"dataframe\">\n",
       "  <thead>\n",
       "    <tr style=\"text-align: right;\">\n",
       "      <th></th>\n",
       "      <th>time_id</th>\n",
       "      <th>seconds_in_bucket</th>\n",
       "      <th>price</th>\n",
       "      <th>size</th>\n",
       "      <th>order_count</th>\n",
       "      <th>stock_id</th>\n",
       "    </tr>\n",
       "  </thead>\n",
       "  <tbody>\n",
       "    <tr>\n",
       "      <th>0</th>\n",
       "      <td>5</td>\n",
       "      <td>21</td>\n",
       "      <td>1.002301</td>\n",
       "      <td>326</td>\n",
       "      <td>12</td>\n",
       "      <td>0</td>\n",
       "    </tr>\n",
       "    <tr>\n",
       "      <th>1</th>\n",
       "      <td>5</td>\n",
       "      <td>46</td>\n",
       "      <td>1.002778</td>\n",
       "      <td>128</td>\n",
       "      <td>4</td>\n",
       "      <td>0</td>\n",
       "    </tr>\n",
       "    <tr>\n",
       "      <th>2</th>\n",
       "      <td>5</td>\n",
       "      <td>50</td>\n",
       "      <td>1.002818</td>\n",
       "      <td>55</td>\n",
       "      <td>1</td>\n",
       "      <td>0</td>\n",
       "    </tr>\n",
       "    <tr>\n",
       "      <th>3</th>\n",
       "      <td>5</td>\n",
       "      <td>57</td>\n",
       "      <td>1.003155</td>\n",
       "      <td>121</td>\n",
       "      <td>5</td>\n",
       "      <td>0</td>\n",
       "    </tr>\n",
       "    <tr>\n",
       "      <th>4</th>\n",
       "      <td>5</td>\n",
       "      <td>68</td>\n",
       "      <td>1.003646</td>\n",
       "      <td>4</td>\n",
       "      <td>1</td>\n",
       "      <td>0</td>\n",
       "    </tr>\n",
       "  </tbody>\n",
       "</table>\n",
       "</div>"
      ],
      "text/plain": [
       "   time_id  seconds_in_bucket     price  size  order_count stock_id\n",
       "0        5                 21  1.002301   326           12        0\n",
       "1        5                 46  1.002778   128            4        0\n",
       "2        5                 50  1.002818    55            1        0\n",
       "3        5                 57  1.003155   121            5        0\n",
       "4        5                 68  1.003646     4            1        0"
      ]
     },
     "execution_count": 4,
     "metadata": {},
     "output_type": "execute_result"
    }
   ],
   "source": [
    "trade_df.head()"
   ]
  },
  {
   "cell_type": "code",
   "execution_count": 5,
   "id": "e1ceaa20",
   "metadata": {},
   "outputs": [
    {
     "data": {
      "text/html": [
       "<div>\n",
       "<style scoped>\n",
       "    .dataframe tbody tr th:only-of-type {\n",
       "        vertical-align: middle;\n",
       "    }\n",
       "\n",
       "    .dataframe tbody tr th {\n",
       "        vertical-align: top;\n",
       "    }\n",
       "\n",
       "    .dataframe thead th {\n",
       "        text-align: right;\n",
       "    }\n",
       "</style>\n",
       "<table border=\"1\" class=\"dataframe\">\n",
       "  <thead>\n",
       "    <tr style=\"text-align: right;\">\n",
       "      <th></th>\n",
       "      <th>stock_id</th>\n",
       "      <th>time_id</th>\n",
       "      <th>target</th>\n",
       "    </tr>\n",
       "  </thead>\n",
       "  <tbody>\n",
       "    <tr>\n",
       "      <th>0</th>\n",
       "      <td>0</td>\n",
       "      <td>5</td>\n",
       "      <td>0.004136</td>\n",
       "    </tr>\n",
       "    <tr>\n",
       "      <th>1</th>\n",
       "      <td>0</td>\n",
       "      <td>11</td>\n",
       "      <td>0.001445</td>\n",
       "    </tr>\n",
       "    <tr>\n",
       "      <th>2</th>\n",
       "      <td>0</td>\n",
       "      <td>16</td>\n",
       "      <td>0.002168</td>\n",
       "    </tr>\n",
       "    <tr>\n",
       "      <th>3</th>\n",
       "      <td>0</td>\n",
       "      <td>31</td>\n",
       "      <td>0.002195</td>\n",
       "    </tr>\n",
       "    <tr>\n",
       "      <th>4</th>\n",
       "      <td>0</td>\n",
       "      <td>62</td>\n",
       "      <td>0.001747</td>\n",
       "    </tr>\n",
       "  </tbody>\n",
       "</table>\n",
       "</div>"
      ],
      "text/plain": [
       "   stock_id  time_id    target\n",
       "0         0        5  0.004136\n",
       "1         0       11  0.001445\n",
       "2         0       16  0.002168\n",
       "3         0       31  0.002195\n",
       "4         0       62  0.001747"
      ]
     },
     "execution_count": 5,
     "metadata": {},
     "output_type": "execute_result"
    }
   ],
   "source": [
    "response_df.head()"
   ]
  },
  {
   "cell_type": "markdown",
   "id": "eee479ec",
   "metadata": {},
   "source": [
    "### Let's look what is in a bucket"
   ]
  },
  {
   "cell_type": "markdown",
   "id": "da912e03",
   "metadata": {},
   "source": [
    "Number of unique \"bucket\""
   ]
  },
  {
   "cell_type": "code",
   "execution_count": 6,
   "id": "6f490cdf",
   "metadata": {},
   "outputs": [
    {
     "data": {
      "text/plain": [
       "3830"
      ]
     },
     "execution_count": 6,
     "metadata": {},
     "output_type": "execute_result"
    }
   ],
   "source": [
    "book_df[\"time_id\"].nunique()"
   ]
  },
  {
   "cell_type": "markdown",
   "id": "4cd864cd",
   "metadata": {},
   "source": [
    "Number of time_id per bucket"
   ]
  },
  {
   "cell_type": "code",
   "execution_count": 7,
   "id": "c60d1771",
   "metadata": {},
   "outputs": [
    {
     "data": {
      "text/html": [
       "<div>\n",
       "<style scoped>\n",
       "    .dataframe tbody tr th:only-of-type {\n",
       "        vertical-align: middle;\n",
       "    }\n",
       "\n",
       "    .dataframe tbody tr th {\n",
       "        vertical-align: top;\n",
       "    }\n",
       "\n",
       "    .dataframe thead th {\n",
       "        text-align: right;\n",
       "    }\n",
       "</style>\n",
       "<table border=\"1\" class=\"dataframe\">\n",
       "  <thead>\n",
       "    <tr style=\"text-align: right;\">\n",
       "      <th></th>\n",
       "      <th>seconds_in_bucket</th>\n",
       "    </tr>\n",
       "    <tr>\n",
       "      <th>time_id</th>\n",
       "      <th></th>\n",
       "    </tr>\n",
       "  </thead>\n",
       "  <tbody>\n",
       "    <tr>\n",
       "      <th>5</th>\n",
       "      <td>600</td>\n",
       "    </tr>\n",
       "    <tr>\n",
       "      <th>11</th>\n",
       "      <td>600</td>\n",
       "    </tr>\n",
       "    <tr>\n",
       "      <th>16</th>\n",
       "      <td>600</td>\n",
       "    </tr>\n",
       "    <tr>\n",
       "      <th>31</th>\n",
       "      <td>600</td>\n",
       "    </tr>\n",
       "    <tr>\n",
       "      <th>62</th>\n",
       "      <td>600</td>\n",
       "    </tr>\n",
       "    <tr>\n",
       "      <th>...</th>\n",
       "      <td>...</td>\n",
       "    </tr>\n",
       "    <tr>\n",
       "      <th>32751</th>\n",
       "      <td>600</td>\n",
       "    </tr>\n",
       "    <tr>\n",
       "      <th>32753</th>\n",
       "      <td>600</td>\n",
       "    </tr>\n",
       "    <tr>\n",
       "      <th>32758</th>\n",
       "      <td>600</td>\n",
       "    </tr>\n",
       "    <tr>\n",
       "      <th>32763</th>\n",
       "      <td>600</td>\n",
       "    </tr>\n",
       "    <tr>\n",
       "      <th>32767</th>\n",
       "      <td>600</td>\n",
       "    </tr>\n",
       "  </tbody>\n",
       "</table>\n",
       "<p>3830 rows × 1 columns</p>\n",
       "</div>"
      ],
      "text/plain": [
       "         seconds_in_bucket\n",
       "time_id                   \n",
       "5                      600\n",
       "11                     600\n",
       "16                     600\n",
       "31                     600\n",
       "62                     600\n",
       "...                    ...\n",
       "32751                  600\n",
       "32753                  600\n",
       "32758                  600\n",
       "32763                  600\n",
       "32767                  600\n",
       "\n",
       "[3830 rows x 1 columns]"
      ]
     },
     "execution_count": 7,
     "metadata": {},
     "output_type": "execute_result"
    }
   ],
   "source": [
    "book_df.groupby(by=\"time_id\").agg({\"seconds_in_bucket\": pd.Series.nunique})"
   ]
  },
  {
   "cell_type": "markdown",
   "id": "b9a655e9",
   "metadata": {},
   "source": [
    "Exactly 10 mins each"
   ]
  },
  {
   "cell_type": "markdown",
   "id": "1e4d7860",
   "metadata": {},
   "source": [
    "### Let's look at the stock"
   ]
  },
  {
   "cell_type": "code",
   "execution_count": 8,
   "id": "0c1df580",
   "metadata": {},
   "outputs": [
    {
     "data": {
      "text/plain": [
       "112"
      ]
     },
     "execution_count": 8,
     "metadata": {},
     "output_type": "execute_result"
    }
   ],
   "source": [
    "trade_df[\"stock_id\"].nunique()"
   ]
  },
  {
   "cell_type": "markdown",
   "id": "3aeaeb7b",
   "metadata": {},
   "source": [
    "### Create wap log return for stocks"
   ]
  },
  {
   "cell_type": "code",
   "execution_count": 9,
   "id": "ac9de0d7",
   "metadata": {},
   "outputs": [],
   "source": [
    "book_df = cal_series_log_return(book_df)"
   ]
  },
  {
   "cell_type": "code",
   "execution_count": 10,
   "id": "ad77cc72",
   "metadata": {},
   "outputs": [
    {
     "data": {
      "text/html": [
       "<div>\n",
       "<style scoped>\n",
       "    .dataframe tbody tr th:only-of-type {\n",
       "        vertical-align: middle;\n",
       "    }\n",
       "\n",
       "    .dataframe tbody tr th {\n",
       "        vertical-align: top;\n",
       "    }\n",
       "\n",
       "    .dataframe thead th {\n",
       "        text-align: right;\n",
       "    }\n",
       "</style>\n",
       "<table border=\"1\" class=\"dataframe\">\n",
       "  <thead>\n",
       "    <tr style=\"text-align: right;\">\n",
       "      <th></th>\n",
       "      <th>time_id</th>\n",
       "      <th>seconds_in_bucket</th>\n",
       "      <th>bid_price1</th>\n",
       "      <th>ask_price1</th>\n",
       "      <th>bid_price2</th>\n",
       "      <th>ask_price2</th>\n",
       "      <th>bid_size1</th>\n",
       "      <th>ask_size1</th>\n",
       "      <th>bid_size2</th>\n",
       "      <th>ask_size2</th>\n",
       "      <th>stock_id</th>\n",
       "      <th>wap</th>\n",
       "      <th>log_return</th>\n",
       "    </tr>\n",
       "  </thead>\n",
       "  <tbody>\n",
       "    <tr>\n",
       "      <th>0</th>\n",
       "      <td>5</td>\n",
       "      <td>0</td>\n",
       "      <td>1.001422</td>\n",
       "      <td>1.002301</td>\n",
       "      <td>1.00137</td>\n",
       "      <td>1.002353</td>\n",
       "      <td>3</td>\n",
       "      <td>226</td>\n",
       "      <td>2</td>\n",
       "      <td>100</td>\n",
       "      <td>0</td>\n",
       "      <td>1.001434</td>\n",
       "      <td>NaN</td>\n",
       "    </tr>\n",
       "    <tr>\n",
       "      <th>1</th>\n",
       "      <td>5</td>\n",
       "      <td>1</td>\n",
       "      <td>1.001422</td>\n",
       "      <td>1.002301</td>\n",
       "      <td>1.00137</td>\n",
       "      <td>1.002353</td>\n",
       "      <td>3</td>\n",
       "      <td>100</td>\n",
       "      <td>2</td>\n",
       "      <td>100</td>\n",
       "      <td>0</td>\n",
       "      <td>1.001448</td>\n",
       "      <td>0.000014</td>\n",
       "    </tr>\n",
       "    <tr>\n",
       "      <th>2</th>\n",
       "      <td>5</td>\n",
       "      <td>5</td>\n",
       "      <td>1.001422</td>\n",
       "      <td>1.002301</td>\n",
       "      <td>1.00137</td>\n",
       "      <td>1.002405</td>\n",
       "      <td>3</td>\n",
       "      <td>100</td>\n",
       "      <td>2</td>\n",
       "      <td>100</td>\n",
       "      <td>0</td>\n",
       "      <td>1.001448</td>\n",
       "      <td>0.000000</td>\n",
       "    </tr>\n",
       "    <tr>\n",
       "      <th>3</th>\n",
       "      <td>5</td>\n",
       "      <td>6</td>\n",
       "      <td>1.001422</td>\n",
       "      <td>1.002301</td>\n",
       "      <td>1.00137</td>\n",
       "      <td>1.002405</td>\n",
       "      <td>3</td>\n",
       "      <td>126</td>\n",
       "      <td>2</td>\n",
       "      <td>100</td>\n",
       "      <td>0</td>\n",
       "      <td>1.001443</td>\n",
       "      <td>-0.000005</td>\n",
       "    </tr>\n",
       "    <tr>\n",
       "      <th>4</th>\n",
       "      <td>5</td>\n",
       "      <td>7</td>\n",
       "      <td>1.001422</td>\n",
       "      <td>1.002301</td>\n",
       "      <td>1.00137</td>\n",
       "      <td>1.002405</td>\n",
       "      <td>3</td>\n",
       "      <td>126</td>\n",
       "      <td>2</td>\n",
       "      <td>100</td>\n",
       "      <td>0</td>\n",
       "      <td>1.001443</td>\n",
       "      <td>0.000000</td>\n",
       "    </tr>\n",
       "  </tbody>\n",
       "</table>\n",
       "</div>"
      ],
      "text/plain": [
       "   time_id  seconds_in_bucket  bid_price1  ask_price1  bid_price2  ask_price2  \\\n",
       "0        5                  0    1.001422    1.002301     1.00137    1.002353   \n",
       "1        5                  1    1.001422    1.002301     1.00137    1.002353   \n",
       "2        5                  5    1.001422    1.002301     1.00137    1.002405   \n",
       "3        5                  6    1.001422    1.002301     1.00137    1.002405   \n",
       "4        5                  7    1.001422    1.002301     1.00137    1.002405   \n",
       "\n",
       "   bid_size1  ask_size1  bid_size2  ask_size2 stock_id       wap  log_return  \n",
       "0          3        226          2        100        0  1.001434         NaN  \n",
       "1          3        100          2        100        0  1.001448    0.000014  \n",
       "2          3        100          2        100        0  1.001448    0.000000  \n",
       "3          3        126          2        100        0  1.001443   -0.000005  \n",
       "4          3        126          2        100        0  1.001443    0.000000  "
      ]
     },
     "execution_count": 10,
     "metadata": {},
     "output_type": "execute_result"
    }
   ],
   "source": [
    "book_df.head()"
   ]
  },
  {
   "cell_type": "markdown",
   "id": "acded6ab",
   "metadata": {},
   "source": [
    "#### Use stock_id = 0 and time_id = 5"
   ]
  },
  {
   "cell_type": "code",
   "execution_count": 11,
   "id": "1b57deb5",
   "metadata": {},
   "outputs": [],
   "source": [
    "ex_data = book_df.loc[(book_df[\"stock_id\"] == 0) & (book_df[\"time_id\"] == 5)]"
   ]
  },
  {
   "cell_type": "code",
   "execution_count": 12,
   "id": "ea34a236",
   "metadata": {},
   "outputs": [
    {
     "data": {
      "text/html": [
       "<div>\n",
       "<style scoped>\n",
       "    .dataframe tbody tr th:only-of-type {\n",
       "        vertical-align: middle;\n",
       "    }\n",
       "\n",
       "    .dataframe tbody tr th {\n",
       "        vertical-align: top;\n",
       "    }\n",
       "\n",
       "    .dataframe thead th {\n",
       "        text-align: right;\n",
       "    }\n",
       "</style>\n",
       "<table border=\"1\" class=\"dataframe\">\n",
       "  <thead>\n",
       "    <tr style=\"text-align: right;\">\n",
       "      <th></th>\n",
       "      <th>time_id</th>\n",
       "      <th>seconds_in_bucket</th>\n",
       "      <th>bid_price1</th>\n",
       "      <th>ask_price1</th>\n",
       "      <th>bid_price2</th>\n",
       "      <th>ask_price2</th>\n",
       "      <th>bid_size1</th>\n",
       "      <th>ask_size1</th>\n",
       "      <th>bid_size2</th>\n",
       "      <th>ask_size2</th>\n",
       "      <th>stock_id</th>\n",
       "      <th>wap</th>\n",
       "      <th>log_return</th>\n",
       "    </tr>\n",
       "  </thead>\n",
       "  <tbody>\n",
       "    <tr>\n",
       "      <th>0</th>\n",
       "      <td>5</td>\n",
       "      <td>0</td>\n",
       "      <td>1.001422</td>\n",
       "      <td>1.002301</td>\n",
       "      <td>1.001370</td>\n",
       "      <td>1.002353</td>\n",
       "      <td>3</td>\n",
       "      <td>226</td>\n",
       "      <td>2</td>\n",
       "      <td>100</td>\n",
       "      <td>0</td>\n",
       "      <td>1.001434</td>\n",
       "      <td>NaN</td>\n",
       "    </tr>\n",
       "    <tr>\n",
       "      <th>1</th>\n",
       "      <td>5</td>\n",
       "      <td>1</td>\n",
       "      <td>1.001422</td>\n",
       "      <td>1.002301</td>\n",
       "      <td>1.001370</td>\n",
       "      <td>1.002353</td>\n",
       "      <td>3</td>\n",
       "      <td>100</td>\n",
       "      <td>2</td>\n",
       "      <td>100</td>\n",
       "      <td>0</td>\n",
       "      <td>1.001448</td>\n",
       "      <td>0.000014</td>\n",
       "    </tr>\n",
       "    <tr>\n",
       "      <th>2</th>\n",
       "      <td>5</td>\n",
       "      <td>5</td>\n",
       "      <td>1.001422</td>\n",
       "      <td>1.002301</td>\n",
       "      <td>1.001370</td>\n",
       "      <td>1.002405</td>\n",
       "      <td>3</td>\n",
       "      <td>100</td>\n",
       "      <td>2</td>\n",
       "      <td>100</td>\n",
       "      <td>0</td>\n",
       "      <td>1.001448</td>\n",
       "      <td>0.000000</td>\n",
       "    </tr>\n",
       "    <tr>\n",
       "      <th>3</th>\n",
       "      <td>5</td>\n",
       "      <td>6</td>\n",
       "      <td>1.001422</td>\n",
       "      <td>1.002301</td>\n",
       "      <td>1.001370</td>\n",
       "      <td>1.002405</td>\n",
       "      <td>3</td>\n",
       "      <td>126</td>\n",
       "      <td>2</td>\n",
       "      <td>100</td>\n",
       "      <td>0</td>\n",
       "      <td>1.001443</td>\n",
       "      <td>-0.000005</td>\n",
       "    </tr>\n",
       "    <tr>\n",
       "      <th>4</th>\n",
       "      <td>5</td>\n",
       "      <td>7</td>\n",
       "      <td>1.001422</td>\n",
       "      <td>1.002301</td>\n",
       "      <td>1.001370</td>\n",
       "      <td>1.002405</td>\n",
       "      <td>3</td>\n",
       "      <td>126</td>\n",
       "      <td>2</td>\n",
       "      <td>100</td>\n",
       "      <td>0</td>\n",
       "      <td>1.001443</td>\n",
       "      <td>0.000000</td>\n",
       "    </tr>\n",
       "    <tr>\n",
       "      <th>...</th>\n",
       "      <td>...</td>\n",
       "      <td>...</td>\n",
       "      <td>...</td>\n",
       "      <td>...</td>\n",
       "      <td>...</td>\n",
       "      <td>...</td>\n",
       "      <td>...</td>\n",
       "      <td>...</td>\n",
       "      <td>...</td>\n",
       "      <td>...</td>\n",
       "      <td>...</td>\n",
       "      <td>...</td>\n",
       "      <td>...</td>\n",
       "    </tr>\n",
       "    <tr>\n",
       "      <th>297</th>\n",
       "      <td>5</td>\n",
       "      <td>585</td>\n",
       "      <td>1.003129</td>\n",
       "      <td>1.003749</td>\n",
       "      <td>1.003025</td>\n",
       "      <td>1.003801</td>\n",
       "      <td>100</td>\n",
       "      <td>3</td>\n",
       "      <td>26</td>\n",
       "      <td>3</td>\n",
       "      <td>0</td>\n",
       "      <td>1.003731</td>\n",
       "      <td>0.000245</td>\n",
       "    </tr>\n",
       "    <tr>\n",
       "      <th>298</th>\n",
       "      <td>5</td>\n",
       "      <td>586</td>\n",
       "      <td>1.003129</td>\n",
       "      <td>1.003749</td>\n",
       "      <td>1.002612</td>\n",
       "      <td>1.003801</td>\n",
       "      <td>100</td>\n",
       "      <td>3</td>\n",
       "      <td>2</td>\n",
       "      <td>3</td>\n",
       "      <td>0</td>\n",
       "      <td>1.003731</td>\n",
       "      <td>0.000000</td>\n",
       "    </tr>\n",
       "    <tr>\n",
       "      <th>299</th>\n",
       "      <td>5</td>\n",
       "      <td>587</td>\n",
       "      <td>1.003129</td>\n",
       "      <td>1.003749</td>\n",
       "      <td>1.003025</td>\n",
       "      <td>1.003801</td>\n",
       "      <td>100</td>\n",
       "      <td>3</td>\n",
       "      <td>26</td>\n",
       "      <td>3</td>\n",
       "      <td>0</td>\n",
       "      <td>1.003731</td>\n",
       "      <td>0.000000</td>\n",
       "    </tr>\n",
       "    <tr>\n",
       "      <th>300</th>\n",
       "      <td>5</td>\n",
       "      <td>588</td>\n",
       "      <td>1.003129</td>\n",
       "      <td>1.003749</td>\n",
       "      <td>1.002612</td>\n",
       "      <td>1.003801</td>\n",
       "      <td>100</td>\n",
       "      <td>3</td>\n",
       "      <td>2</td>\n",
       "      <td>3</td>\n",
       "      <td>0</td>\n",
       "      <td>1.003731</td>\n",
       "      <td>0.000000</td>\n",
       "    </tr>\n",
       "    <tr>\n",
       "      <th>301</th>\n",
       "      <td>5</td>\n",
       "      <td>593</td>\n",
       "      <td>1.003129</td>\n",
       "      <td>1.003749</td>\n",
       "      <td>1.003025</td>\n",
       "      <td>1.003801</td>\n",
       "      <td>100</td>\n",
       "      <td>3</td>\n",
       "      <td>26</td>\n",
       "      <td>3</td>\n",
       "      <td>0</td>\n",
       "      <td>1.003731</td>\n",
       "      <td>0.000000</td>\n",
       "    </tr>\n",
       "  </tbody>\n",
       "</table>\n",
       "<p>302 rows × 13 columns</p>\n",
       "</div>"
      ],
      "text/plain": [
       "     time_id  seconds_in_bucket  bid_price1  ask_price1  bid_price2  \\\n",
       "0          5                  0    1.001422    1.002301    1.001370   \n",
       "1          5                  1    1.001422    1.002301    1.001370   \n",
       "2          5                  5    1.001422    1.002301    1.001370   \n",
       "3          5                  6    1.001422    1.002301    1.001370   \n",
       "4          5                  7    1.001422    1.002301    1.001370   \n",
       "..       ...                ...         ...         ...         ...   \n",
       "297        5                585    1.003129    1.003749    1.003025   \n",
       "298        5                586    1.003129    1.003749    1.002612   \n",
       "299        5                587    1.003129    1.003749    1.003025   \n",
       "300        5                588    1.003129    1.003749    1.002612   \n",
       "301        5                593    1.003129    1.003749    1.003025   \n",
       "\n",
       "     ask_price2  bid_size1  ask_size1  bid_size2  ask_size2 stock_id  \\\n",
       "0      1.002353          3        226          2        100        0   \n",
       "1      1.002353          3        100          2        100        0   \n",
       "2      1.002405          3        100          2        100        0   \n",
       "3      1.002405          3        126          2        100        0   \n",
       "4      1.002405          3        126          2        100        0   \n",
       "..          ...        ...        ...        ...        ...      ...   \n",
       "297    1.003801        100          3         26          3        0   \n",
       "298    1.003801        100          3          2          3        0   \n",
       "299    1.003801        100          3         26          3        0   \n",
       "300    1.003801        100          3          2          3        0   \n",
       "301    1.003801        100          3         26          3        0   \n",
       "\n",
       "          wap  log_return  \n",
       "0    1.001434         NaN  \n",
       "1    1.001448    0.000014  \n",
       "2    1.001448    0.000000  \n",
       "3    1.001443   -0.000005  \n",
       "4    1.001443    0.000000  \n",
       "..        ...         ...  \n",
       "297  1.003731    0.000245  \n",
       "298  1.003731    0.000000  \n",
       "299  1.003731    0.000000  \n",
       "300  1.003731    0.000000  \n",
       "301  1.003731    0.000000  \n",
       "\n",
       "[302 rows x 13 columns]"
      ]
     },
     "execution_count": 12,
     "metadata": {},
     "output_type": "execute_result"
    }
   ],
   "source": [
    "ex_data"
   ]
  },
  {
   "cell_type": "code",
   "execution_count": 13,
   "id": "8b56c86a",
   "metadata": {},
   "outputs": [
    {
     "data": {
      "image/png": "[encoded data removed]",
      "text/plain": [
       "<Figure size 432x288 with 1 Axes>"
      ]
     },
     "metadata": {
      "needs_background": "light"
     },
     "output_type": "display_data"
    }
   ],
   "source": [
    "wap_plot = sns.lineplot(x=ex_data[\"seconds_in_bucket\"], y=ex_data[\"wap\"])"
   ]
  },
  {
   "cell_type": "code",
   "execution_count": 14,
   "id": "87cf2c0a",
   "metadata": {},
   "outputs": [
    {
     "data": {
      "image/png": "[encoded data removed]",
      "text/plain": [
       "<Figure size 432x288 with 1 Axes>"
      ]
     },
     "metadata": {
      "needs_background": "light"
     },
     "output_type": "display_data"
    }
   ],
   "source": [
    "log_return_plot = sns.lineplot(x=ex_data[\"seconds_in_bucket\"], y=ex_data[\"log_return\"])"
   ]
  },
  {
   "cell_type": "code",
   "execution_count": 15,
   "id": "40f207fa",
   "metadata": {},
   "outputs": [
    {
     "data": {
      "text/plain": [
       "0.004499369"
      ]
     },
     "execution_count": 15,
     "metadata": {},
     "output_type": "execute_result"
    }
   ],
   "source": [
    "cal_realized_volatility(ex_data[\"log_return\"]) "
   ]
  },
  {
   "cell_type": "markdown",
   "id": "62723bdf",
   "metadata": {},
   "source": [
    "### look at trade_df"
   ]
  },
  {
   "cell_type": "code",
   "execution_count": 16,
   "id": "555eb779",
   "metadata": {},
   "outputs": [
    {
     "data": {
      "text/html": [
       "<div>\n",
       "<style scoped>\n",
       "    .dataframe tbody tr th:only-of-type {\n",
       "        vertical-align: middle;\n",
       "    }\n",
       "\n",
       "    .dataframe tbody tr th {\n",
       "        vertical-align: top;\n",
       "    }\n",
       "\n",
       "    .dataframe thead th {\n",
       "        text-align: right;\n",
       "    }\n",
       "</style>\n",
       "<table border=\"1\" class=\"dataframe\">\n",
       "  <thead>\n",
       "    <tr style=\"text-align: right;\">\n",
       "      <th></th>\n",
       "      <th>time_id</th>\n",
       "      <th>seconds_in_bucket</th>\n",
       "      <th>price</th>\n",
       "      <th>size</th>\n",
       "      <th>order_count</th>\n",
       "      <th>stock_id</th>\n",
       "    </tr>\n",
       "  </thead>\n",
       "  <tbody>\n",
       "    <tr>\n",
       "      <th>0</th>\n",
       "      <td>5</td>\n",
       "      <td>21</td>\n",
       "      <td>1.002301</td>\n",
       "      <td>326</td>\n",
       "      <td>12</td>\n",
       "      <td>0</td>\n",
       "    </tr>\n",
       "    <tr>\n",
       "      <th>1</th>\n",
       "      <td>5</td>\n",
       "      <td>46</td>\n",
       "      <td>1.002778</td>\n",
       "      <td>128</td>\n",
       "      <td>4</td>\n",
       "      <td>0</td>\n",
       "    </tr>\n",
       "    <tr>\n",
       "      <th>2</th>\n",
       "      <td>5</td>\n",
       "      <td>50</td>\n",
       "      <td>1.002818</td>\n",
       "      <td>55</td>\n",
       "      <td>1</td>\n",
       "      <td>0</td>\n",
       "    </tr>\n",
       "    <tr>\n",
       "      <th>3</th>\n",
       "      <td>5</td>\n",
       "      <td>57</td>\n",
       "      <td>1.003155</td>\n",
       "      <td>121</td>\n",
       "      <td>5</td>\n",
       "      <td>0</td>\n",
       "    </tr>\n",
       "    <tr>\n",
       "      <th>4</th>\n",
       "      <td>5</td>\n",
       "      <td>68</td>\n",
       "      <td>1.003646</td>\n",
       "      <td>4</td>\n",
       "      <td>1</td>\n",
       "      <td>0</td>\n",
       "    </tr>\n",
       "    <tr>\n",
       "      <th>...</th>\n",
       "      <td>...</td>\n",
       "      <td>...</td>\n",
       "      <td>...</td>\n",
       "      <td>...</td>\n",
       "      <td>...</td>\n",
       "      <td>...</td>\n",
       "    </tr>\n",
       "    <tr>\n",
       "      <th>38382736</th>\n",
       "      <td>32767</td>\n",
       "      <td>570</td>\n",
       "      <td>0.999932</td>\n",
       "      <td>100</td>\n",
       "      <td>1</td>\n",
       "      <td>99</td>\n",
       "    </tr>\n",
       "    <tr>\n",
       "      <th>38382737</th>\n",
       "      <td>32767</td>\n",
       "      <td>575</td>\n",
       "      <td>0.999932</td>\n",
       "      <td>100</td>\n",
       "      <td>1</td>\n",
       "      <td>99</td>\n",
       "    </tr>\n",
       "    <tr>\n",
       "      <th>38382738</th>\n",
       "      <td>32767</td>\n",
       "      <td>579</td>\n",
       "      <td>0.999797</td>\n",
       "      <td>300</td>\n",
       "      <td>3</td>\n",
       "      <td>99</td>\n",
       "    </tr>\n",
       "    <tr>\n",
       "      <th>38382739</th>\n",
       "      <td>32767</td>\n",
       "      <td>584</td>\n",
       "      <td>0.999854</td>\n",
       "      <td>172</td>\n",
       "      <td>2</td>\n",
       "      <td>99</td>\n",
       "    </tr>\n",
       "    <tr>\n",
       "      <th>38382740</th>\n",
       "      <td>32767</td>\n",
       "      <td>592</td>\n",
       "      <td>0.999662</td>\n",
       "      <td>400</td>\n",
       "      <td>5</td>\n",
       "      <td>99</td>\n",
       "    </tr>\n",
       "  </tbody>\n",
       "</table>\n",
       "<p>38382741 rows × 6 columns</p>\n",
       "</div>"
      ],
      "text/plain": [
       "          time_id  seconds_in_bucket     price  size  order_count stock_id\n",
       "0               5                 21  1.002301   326           12        0\n",
       "1               5                 46  1.002778   128            4        0\n",
       "2               5                 50  1.002818    55            1        0\n",
       "3               5                 57  1.003155   121            5        0\n",
       "4               5                 68  1.003646     4            1        0\n",
       "...           ...                ...       ...   ...          ...      ...\n",
       "38382736    32767                570  0.999932   100            1       99\n",
       "38382737    32767                575  0.999932   100            1       99\n",
       "38382738    32767                579  0.999797   300            3       99\n",
       "38382739    32767                584  0.999854   172            2       99\n",
       "38382740    32767                592  0.999662   400            5       99\n",
       "\n",
       "[38382741 rows x 6 columns]"
      ]
     },
     "execution_count": 16,
     "metadata": {},
     "output_type": "execute_result"
    }
   ],
   "source": [
    "trade_df"
   ]
  },
  {
   "cell_type": "markdown",
   "id": "95c7dc07",
   "metadata": {},
   "source": [
    "## Try to create simple predictor using t-1"
   ]
  },
  {
   "cell_type": "code",
   "execution_count": 17,
   "id": "8edc31b5",
   "metadata": {},
   "outputs": [
    {
     "data": {
      "text/plain": [
       "0         0.004499\n",
       "1         0.001204\n",
       "2         0.002369\n",
       "3         0.002574\n",
       "4         0.001894\n",
       "            ...   \n",
       "428927    0.003691\n",
       "428928    0.004104\n",
       "428929    0.003117\n",
       "428930    0.003661\n",
       "428931    0.002092\n",
       "Name: volatility_per_id, Length: 428932, dtype: float32"
      ]
     },
     "execution_count": 17,
     "metadata": {},
     "output_type": "execute_result"
    }
   ],
   "source": [
    "naive_predictor = create_baseline_pred(book_df, response_df)\n",
    "naive_predictor"
   ]
  },
  {
   "cell_type": "code",
   "execution_count": 18,
   "id": "cd44f299",
   "metadata": {},
   "outputs": [
    {
     "data": {
      "text/plain": [
       "{'residual': 0         0.000364\n",
       " 1        -0.000240\n",
       " 2         0.000200\n",
       " 3         0.000378\n",
       " 4         0.000147\n",
       "             ...   \n",
       " 428927    0.000230\n",
       " 428928    0.000991\n",
       " 428929   -0.000952\n",
       " 428930    0.000304\n",
       " 428931    0.000001\n",
       " Length: 428932, dtype: float64,\n",
       " 'true_average': 0.003880409536952329,\n",
       " 'prediction_average': 0.0042331586591899395,\n",
       " 'sum_error': 151.30082901291198,\n",
       " 'average_error': 0.0003527491222376105,\n",
       " 'mae': 0.0009454383986534637,\n",
       " 'rmse': 0.0017901717200243996,\n",
       " 'rmspe': 34.13545247131772,\n",
       " 'smape': 21.089511932201507,\n",
       " 'r2': 0.6282704071734004}"
      ]
     },
     "execution_count": 18,
     "metadata": {},
     "output_type": "execute_result"
    }
   ],
   "source": [
    "naive_pred_result = evaluation(response_df[\"target\"], naive_predictor)\n",
    "naive_pred_result"
   ]
  },
  {
   "cell_type": "markdown",
   "id": "4792a691",
   "metadata": {},
   "source": [
    "#### look like ther naive model mostly will under predict, which tell us that volitality will lead to more volitality"
   ]
  },
  {
   "cell_type": "markdown",
   "id": "421d1d83",
   "metadata": {},
   "source": [
    "## Try knn regressor using only t-1 data"
   ]
  },
  {
   "cell_type": "markdown",
   "id": "e321808c",
   "metadata": {},
   "source": [
    "### Create train validation test set"
   ]
  },
  {
   "cell_type": "markdown",
   "id": "b454a481",
   "metadata": {},
   "source": [
    "Note that we don't have to scale the data because log return was already scaled "
   ]
  },
  {
   "cell_type": "code",
   "execution_count": 19,
   "id": "cabe9430",
   "metadata": {},
   "outputs": [],
   "source": [
    "t1_predictor = [[i] for i in naive_predictor.tolist()]"
   ]
  },
  {
   "cell_type": "code",
   "execution_count": 20,
   "id": "02b766cf",
   "metadata": {},
   "outputs": [],
   "source": [
    "X_train, X_test, y_train, y_test = train_test_split(t1_predictor, response_df[\"target\"], test_size=0.2, random_state=42)\n",
    "\n",
    "X_train, X_val, y_train, y_val = train_test_split(X_train, y_train, test_size=0.25, random_state=42)"
   ]
  },
  {
   "cell_type": "code",
   "execution_count": 21,
   "id": "14d0032b",
   "metadata": {},
   "outputs": [],
   "source": [
    "from sklearn.neighbors import KNeighborsRegressor"
   ]
  },
  {
   "cell_type": "code",
   "execution_count": 22,
   "id": "86bc2cb8",
   "metadata": {},
   "outputs": [
    {
     "data": {
      "text/plain": [
       "KNeighborsRegressor(n_neighbors=3)"
      ]
     },
     "execution_count": 22,
     "metadata": {},
     "output_type": "execute_result"
    }
   ],
   "source": [
    "knnr = KNeighborsRegressor(n_neighbors=3)\n",
    "knnr.fit(np.array(X_train), y_train)"
   ]
  },
  {
   "cell_type": "code",
   "execution_count": 23,
   "id": "4191b79a",
   "metadata": {},
   "outputs": [],
   "source": [
    "knnr_y_pred = knnr.predict(X_val)"
   ]
  },
  {
   "cell_type": "code",
   "execution_count": 24,
   "id": "5c1ad6b5",
   "metadata": {},
   "outputs": [
    {
     "data": {
      "text/plain": [
       "{'residual': 249043   -0.000799\n",
       " 253218   -0.001090\n",
       " 23977    -0.000960\n",
       " 401871    0.000055\n",
       " 393220    0.000183\n",
       "             ...   \n",
       " 228610    0.000404\n",
       " 321502   -0.001064\n",
       " 87621    -0.000867\n",
       " 395657    0.000058\n",
       " 86228     0.000352\n",
       " Name: target, Length: 85787, dtype: float64,\n",
       " 'true_average': 0.0038866345894832915,\n",
       " 'prediction_average': 0.003887817146918143,\n",
       " 'sum_error': 0.10144805466666651,\n",
       " 'average_error': 1.1825574348514958e-06,\n",
       " 'mae': 0.0009441392094140138,\n",
       " 'rmse': 0.001574372058691762,\n",
       " 'rmspe': 36.314758192601865,\n",
       " 'smape': 23.212307678218696,\n",
       " 'r2': 0.7087315585343013}"
      ]
     },
     "execution_count": 24,
     "metadata": {},
     "output_type": "execute_result"
    }
   ],
   "source": [
    "knnr_naive_pred_result = evaluation(y_val, knnr_y_pred)\n",
    "knnr_naive_pred_result"
   ]
  },
  {
   "cell_type": "markdown",
   "id": "e67bc864",
   "metadata": {},
   "source": [
    "### Unsurprisingly Knn can improve the naive predictor\n",
    "<b> let's push it a bit further"
   ]
  },
  {
   "cell_type": "code",
   "execution_count": 25,
   "id": "416e883a",
   "metadata": {},
   "outputs": [],
   "source": [
    "rmse_list = []\n",
    "k_list = []\n",
    "for i in range(5, 300, 5):\n",
    "    knnr = KNeighborsRegressor(n_neighbors=i)\n",
    "    knnr.fit(np.array(X_train), y_train)\n",
    "    knnr_y_pred = knnr.predict(X_val)\n",
    "    knnr_naive_pred_result = evaluation(y_val, knnr_y_pred)\n",
    "    k_list.append(i)\n",
    "    rmse_list.append(knnr_naive_pred_result[\"rmse\"])\n",
    "\n",
    "rmse_array = np.asarray(rmse_list)"
   ]
  },
  {
   "cell_type": "code",
   "execution_count": 26,
   "id": "fbc5831f",
   "metadata": {},
   "outputs": [
    {
     "data": {
      "text/plain": [
       "<AxesSubplot:>"
      ]
     },
     "execution_count": 26,
     "metadata": {},
     "output_type": "execute_result"
    },
    {
     "data": {
      "image/png": "[encoded data removed]",
      "text/plain": [
       "<Figure size 432x288 with 1 Axes>"
      ]
     },
     "metadata": {
      "needs_background": "light"
     },
     "output_type": "display_data"
    }
   ],
   "source": [
    "sns.lineplot(x=k_list, y=rmse_list)"
   ]
  },
  {
   "cell_type": "markdown",
   "id": "14ebeedf",
   "metadata": {},
   "source": [
    "<b> to prevent overfit k = 100 will be use"
   ]
  },
  {
   "cell_type": "code",
   "execution_count": 27,
   "id": "1d5c6fcd",
   "metadata": {},
   "outputs": [
    {
     "data": {
      "text/plain": [
       "{'residual': 58607     0.000119\n",
       " 356864    0.000124\n",
       " 197966   -0.000219\n",
       " 261134    0.001139\n",
       " 193238    0.000248\n",
       "             ...   \n",
       " 1792     -0.000664\n",
       " 75578    -0.000128\n",
       " 86262     0.000003\n",
       " 336477   -0.000406\n",
       " 80054     0.000488\n",
       " Name: target, Length: 85787, dtype: float64,\n",
       " 'true_average': 0.003876812186321935,\n",
       " 'prediction_average': 0.00387585753902048,\n",
       " 'sum_error': -0.08189632805000029,\n",
       " 'average_error': -9.546473014551173e-07,\n",
       " 'mae': 0.0008038380517697321,\n",
       " 'rmse': 0.0013912728856143692,\n",
       " 'rmspe': 30.545251671084827,\n",
       " 'smape': 19.890924951229344,\n",
       " 'r2': 0.7778081838854034}"
      ]
     },
     "execution_count": 27,
     "metadata": {},
     "output_type": "execute_result"
    }
   ],
   "source": [
    "knnr = KNeighborsRegressor(n_neighbors=100)\n",
    "knnr.fit(np.array(X_train), y_train)\n",
    "knnr_y_pred = knnr.predict(X_test)\n",
    "knnr_naive_pred_result = evaluation(y_test, knnr_y_pred)\n",
    "knnr_naive_pred_result"
   ]
  },
  {
   "cell_type": "markdown",
   "id": "f240ef43",
   "metadata": {},
   "source": [
    "#### using knn regressor to \"enhance\" the prediction can reduce naive model \"underpredictness\""
   ]
  },
  {
   "cell_type": "markdown",
   "id": "d9068dd1",
   "metadata": {},
   "source": [
    "## Linear Regression"
   ]
  },
  {
   "cell_type": "markdown",
   "id": "8ba33d27",
   "metadata": {},
   "source": [
    "See that Knn can improve the model it may because simply reduce the underprediction, OLS can do exactly that"
   ]
  },
  {
   "cell_type": "code",
   "execution_count": 28,
   "id": "9a8b7bc6",
   "metadata": {},
   "outputs": [],
   "source": [
    "X_train, X_test, y_train, y_test = train_test_split(naive_predictor, response_df[\"target\"], test_size=0.2, random_state=42)\n",
    "\n",
    "X_train, X_val, y_train, y_val = train_test_split(X_train, y_train, test_size=0.25, random_state=42)"
   ]
  },
  {
   "cell_type": "code",
   "execution_count": 29,
   "id": "e57da5f0",
   "metadata": {},
   "outputs": [],
   "source": [
    "y = y_train\n",
    "X_train = X_train\n",
    "X_train = sm.add_constant(X_train)"
   ]
  },
  {
   "cell_type": "code",
   "execution_count": 30,
   "id": "653cd2e6",
   "metadata": {},
   "outputs": [
    {
     "data": {
      "text/html": [
       "<table class=\"simpletable\">\n",
       "<caption>OLS Regression Results</caption>\n",
       "<tr>\n",
       "  <th>Dep. Variable:</th>         <td>target</td>      <th>  R-squared:         </th>  <td>   0.764</td> \n",
       "</tr>\n",
       "<tr>\n",
       "  <th>Model:</th>                   <td>OLS</td>       <th>  Adj. R-squared:    </th>  <td>   0.764</td> \n",
       "</tr>\n",
       "<tr>\n",
       "  <th>Method:</th>             <td>Least Squares</td>  <th>  F-statistic:       </th>  <td>8.341e+05</td>\n",
       "</tr>\n",
       "<tr>\n",
       "  <th>Date:</th>             <td>Mon, 11 Oct 2021</td> <th>  Prob (F-statistic):</th>   <td>  0.00</td>  \n",
       "</tr>\n",
       "<tr>\n",
       "  <th>Time:</th>                 <td>13:20:05</td>     <th>  Log-Likelihood:    </th> <td>1.3212e+06</td>\n",
       "</tr>\n",
       "<tr>\n",
       "  <th>No. Observations:</th>      <td>257358</td>      <th>  AIC:               </th> <td>-2.642e+06</td>\n",
       "</tr>\n",
       "<tr>\n",
       "  <th>Df Residuals:</th>          <td>257356</td>      <th>  BIC:               </th> <td>-2.642e+06</td>\n",
       "</tr>\n",
       "<tr>\n",
       "  <th>Df Model:</th>              <td>     1</td>      <th>                     </th>      <td> </td>    \n",
       "</tr>\n",
       "<tr>\n",
       "  <th>Covariance Type:</th>      <td>nonrobust</td>    <th>                     </th>      <td> </td>    \n",
       "</tr>\n",
       "</table>\n",
       "<table class=\"simpletable\">\n",
       "<tr>\n",
       "          <td></td>             <th>coef</th>     <th>std err</th>      <th>t</th>      <th>P>|t|</th>  <th>[0.025</th>    <th>0.975]</th>  \n",
       "</tr>\n",
       "<tr>\n",
       "  <th>const</th>             <td>    0.0008</td> <td> 4.36e-06</td> <td>  193.009</td> <td> 0.000</td> <td>    0.001</td> <td>    0.001</td>\n",
       "</tr>\n",
       "<tr>\n",
       "  <th>volatility_per_id</th> <td>    0.7182</td> <td>    0.001</td> <td>  913.303</td> <td> 0.000</td> <td>    0.717</td> <td>    0.720</td>\n",
       "</tr>\n",
       "</table>\n",
       "<table class=\"simpletable\">\n",
       "<tr>\n",
       "  <th>Omnibus:</th>       <td>158052.076</td> <th>  Durbin-Watson:     </th>   <td>   2.004</td>  \n",
       "</tr>\n",
       "<tr>\n",
       "  <th>Prob(Omnibus):</th>   <td> 0.000</td>   <th>  Jarque-Bera (JB):  </th> <td>34780455.654</td>\n",
       "</tr>\n",
       "<tr>\n",
       "  <th>Skew:</th>            <td> 1.868</td>   <th>  Prob(JB):          </th>   <td>    0.00</td>  \n",
       "</tr>\n",
       "<tr>\n",
       "  <th>Kurtosis:</th>        <td>59.829</td>   <th>  Cond. No.          </th>   <td>    280.</td>  \n",
       "</tr>\n",
       "</table><br/><br/>Notes:<br/>[1] Standard Errors assume that the covariance matrix of the errors is correctly specified."
      ],
      "text/plain": [
       "<class 'statsmodels.iolib.summary.Summary'>\n",
       "\"\"\"\n",
       "                            OLS Regression Results                            \n",
       "==============================================================================\n",
       "Dep. Variable:                 target   R-squared:                       0.764\n",
       "Model:                            OLS   Adj. R-squared:                  0.764\n",
       "Method:                 Least Squares   F-statistic:                 8.341e+05\n",
       "Date:                Mon, 11 Oct 2021   Prob (F-statistic):               0.00\n",
       "Time:                        13:20:05   Log-Likelihood:             1.3212e+06\n",
       "No. Observations:              257358   AIC:                        -2.642e+06\n",
       "Df Residuals:                  257356   BIC:                        -2.642e+06\n",
       "Df Model:                           1                                         \n",
       "Covariance Type:            nonrobust                                         \n",
       "=====================================================================================\n",
       "                        coef    std err          t      P>|t|      [0.025      0.975]\n",
       "-------------------------------------------------------------------------------------\n",
       "const                 0.0008   4.36e-06    193.009      0.000       0.001       0.001\n",
       "volatility_per_id     0.7182      0.001    913.303      0.000       0.717       0.720\n",
       "==============================================================================\n",
       "Omnibus:                   158052.076   Durbin-Watson:                   2.004\n",
       "Prob(Omnibus):                  0.000   Jarque-Bera (JB):         34780455.654\n",
       "Skew:                           1.868   Prob(JB):                         0.00\n",
       "Kurtosis:                      59.829   Cond. No.                         280.\n",
       "==============================================================================\n",
       "\n",
       "Notes:\n",
       "[1] Standard Errors assume that the covariance matrix of the errors is correctly specified.\n",
       "\"\"\""
      ]
     },
     "execution_count": 30,
     "metadata": {},
     "output_type": "execute_result"
    }
   ],
   "source": [
    "model = sm.OLS(y,X_train)\n",
    "ols = model.fit()\n",
    "ols.summary()"
   ]
  },
  {
   "cell_type": "code",
   "execution_count": 31,
   "id": "d76a16b4",
   "metadata": {},
   "outputs": [
    {
     "data": {
      "text/plain": [
       "{'residual': 58607    -0.000012\n",
       " 356864    0.000152\n",
       " 197966   -0.000139\n",
       " 261134    0.000584\n",
       " 193238    0.000355\n",
       "             ...   \n",
       " 1792     -0.000542\n",
       " 75578    -0.000198\n",
       " 86262    -0.000097\n",
       " 336477    0.000038\n",
       " 80054     0.000735\n",
       " Length: 85787, dtype: float64,\n",
       " 'true_average': 0.003876812186321935,\n",
       " 'prediction_average': 0.0038804174240148967,\n",
       " 'sum_error': 0.3092825259651945,\n",
       " 'average_error': 3.6052376929615083e-06,\n",
       " 'mae': 0.0008382096854903129,\n",
       " 'rmse': 0.0014465465765499236,\n",
       " 'rmspe': 35.076477045987446,\n",
       " 'smape': 21.810531600228227,\n",
       " 'r2': 0.7598026234001778}"
      ]
     },
     "execution_count": 31,
     "metadata": {},
     "output_type": "execute_result"
    }
   ],
   "source": [
    "X_test = sm.add_constant(X_test)\n",
    "ols_y_pred = ols.predict(X_test)\n",
    "ols_pred_result = evaluation(y_test, ols_y_pred)\n",
    "ols_pred_result"
   ]
  },
  {
   "cell_type": "code",
   "execution_count": null,
   "id": "096bafc3",
   "metadata": {},
   "outputs": [],
   "source": [
    "sns.set_theme(style=\"whitegrid\")\n",
    "sns.residplot(x=ols_y_pred, y=ols_pred_result[\"residual\"], lowess=True, color=\"g\")"
   ]
  },
  {
   "cell_type": "markdown",
   "id": "557f6ad9",
   "metadata": {},
   "source": [
    "### Try modify ols a bit"
   ]
  },
  {
   "cell_type": "code",
   "execution_count": null,
   "id": "d823b77c",
   "metadata": {},
   "outputs": [],
   "source": [
    "y = y_train\n",
    "X_train = X_train\n",
    "X_train = sm.add_constant(X_train)\n",
    "X_train.loc[:, \"volatility_per_id_square\"] = np.square(X_train.loc[:, \"volatility_per_id\"])\n",
    "model = sm.OLS(y,X_train)\n",
    "ols = model.fit()\n",
    "ols.summary()"
   ]
  },
  {
   "cell_type": "code",
   "execution_count": null,
   "id": "965daee0",
   "metadata": {},
   "outputs": [],
   "source": [
    "X_test = sm.add_constant(X_test)\n",
    "X_test.loc[:, \"volatility_per_id_square\"] = np.square(X_test.loc[:, \"volatility_per_id\"])\n",
    "pr_y_pred = ols.predict(X_test)\n",
    "pr_pred_result = evaluation(y_test, pr_y_pred)\n",
    "pr_pred_result"
   ]
  },
  {
   "cell_type": "code",
   "execution_count": null,
   "id": "f395bb91",
   "metadata": {},
   "outputs": [],
   "source": [
    "sns.set_theme(style=\"whitegrid\")\n",
    "sns.residplot(x=pr_y_pred, y=pr_pred_result[\"residule\"], lowess=True, color=\"g\")"
   ]
  }
 ],
 "metadata": {
  "kernelspec": {
   "display_name": "Python 3 (ipykernel)",
   "language": "python",
   "name": "python3"
  },
  "language_info": {
   "codemirror_mode": {
    "name": "ipython",
    "version": 3
   },
   "file_extension": ".py",
   "mimetype": "text/x-python",
   "name": "python",
   "nbconvert_exporter": "python",
   "pygments_lexer": "ipython3",
   "version": "3.8.5"
  }
 },
 "nbformat": 4,
 "nbformat_minor": 5
}
